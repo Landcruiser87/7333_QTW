{
 "cells": [
  {
   "cell_type": "code",
   "execution_count": 1,
   "metadata": {},
   "outputs": [
    {
     "name": "stdout",
     "output_type": "stream",
     "text": [
      "2.0.0\n"
     ]
    }
   ],
   "source": [
    "import tensorflow as tf\n",
    "from tensorflow.keras import layers \n",
    "from tensorflow.keras.regularizers import l2\n",
    "from sklearn import datasets\n",
    "import pandas as pd\n",
    "import numpy as np\n",
    "print(tf.__version__)"
   ]
  },
  {
   "cell_type": "markdown",
   "metadata": {},
   "source": [
    "## Load Data\n",
    "First get the data.  Sklearn presents the data in a dictionary.  \n",
    "\n",
    "The target is the price is thousands\n",
    "\n",
    "Note that X is a dataframe while y is an array!!"
   ]
  },
  {
   "cell_type": "code",
   "execution_count": 2,
   "metadata": {},
   "outputs": [],
   "source": [
    "bos = datasets.load_boston()"
   ]
  },
  {
   "cell_type": "code",
   "execution_count": 3,
   "metadata": {},
   "outputs": [
    {
     "data": {
      "text/plain": [
       "{'data': array([[6.3200e-03, 1.8000e+01, 2.3100e+00, ..., 1.5300e+01, 3.9690e+02,\n",
       "         4.9800e+00],\n",
       "        [2.7310e-02, 0.0000e+00, 7.0700e+00, ..., 1.7800e+01, 3.9690e+02,\n",
       "         9.1400e+00],\n",
       "        [2.7290e-02, 0.0000e+00, 7.0700e+00, ..., 1.7800e+01, 3.9283e+02,\n",
       "         4.0300e+00],\n",
       "        ...,\n",
       "        [6.0760e-02, 0.0000e+00, 1.1930e+01, ..., 2.1000e+01, 3.9690e+02,\n",
       "         5.6400e+00],\n",
       "        [1.0959e-01, 0.0000e+00, 1.1930e+01, ..., 2.1000e+01, 3.9345e+02,\n",
       "         6.4800e+00],\n",
       "        [4.7410e-02, 0.0000e+00, 1.1930e+01, ..., 2.1000e+01, 3.9690e+02,\n",
       "         7.8800e+00]]),\n",
       " 'target': array([24. , 21.6, 34.7, 33.4, 36.2, 28.7, 22.9, 27.1, 16.5, 18.9, 15. ,\n",
       "        18.9, 21.7, 20.4, 18.2, 19.9, 23.1, 17.5, 20.2, 18.2, 13.6, 19.6,\n",
       "        15.2, 14.5, 15.6, 13.9, 16.6, 14.8, 18.4, 21. , 12.7, 14.5, 13.2,\n",
       "        13.1, 13.5, 18.9, 20. , 21. , 24.7, 30.8, 34.9, 26.6, 25.3, 24.7,\n",
       "        21.2, 19.3, 20. , 16.6, 14.4, 19.4, 19.7, 20.5, 25. , 23.4, 18.9,\n",
       "        35.4, 24.7, 31.6, 23.3, 19.6, 18.7, 16. , 22.2, 25. , 33. , 23.5,\n",
       "        19.4, 22. , 17.4, 20.9, 24.2, 21.7, 22.8, 23.4, 24.1, 21.4, 20. ,\n",
       "        20.8, 21.2, 20.3, 28. , 23.9, 24.8, 22.9, 23.9, 26.6, 22.5, 22.2,\n",
       "        23.6, 28.7, 22.6, 22. , 22.9, 25. , 20.6, 28.4, 21.4, 38.7, 43.8,\n",
       "        33.2, 27.5, 26.5, 18.6, 19.3, 20.1, 19.5, 19.5, 20.4, 19.8, 19.4,\n",
       "        21.7, 22.8, 18.8, 18.7, 18.5, 18.3, 21.2, 19.2, 20.4, 19.3, 22. ,\n",
       "        20.3, 20.5, 17.3, 18.8, 21.4, 15.7, 16.2, 18. , 14.3, 19.2, 19.6,\n",
       "        23. , 18.4, 15.6, 18.1, 17.4, 17.1, 13.3, 17.8, 14. , 14.4, 13.4,\n",
       "        15.6, 11.8, 13.8, 15.6, 14.6, 17.8, 15.4, 21.5, 19.6, 15.3, 19.4,\n",
       "        17. , 15.6, 13.1, 41.3, 24.3, 23.3, 27. , 50. , 50. , 50. , 22.7,\n",
       "        25. , 50. , 23.8, 23.8, 22.3, 17.4, 19.1, 23.1, 23.6, 22.6, 29.4,\n",
       "        23.2, 24.6, 29.9, 37.2, 39.8, 36.2, 37.9, 32.5, 26.4, 29.6, 50. ,\n",
       "        32. , 29.8, 34.9, 37. , 30.5, 36.4, 31.1, 29.1, 50. , 33.3, 30.3,\n",
       "        34.6, 34.9, 32.9, 24.1, 42.3, 48.5, 50. , 22.6, 24.4, 22.5, 24.4,\n",
       "        20. , 21.7, 19.3, 22.4, 28.1, 23.7, 25. , 23.3, 28.7, 21.5, 23. ,\n",
       "        26.7, 21.7, 27.5, 30.1, 44.8, 50. , 37.6, 31.6, 46.7, 31.5, 24.3,\n",
       "        31.7, 41.7, 48.3, 29. , 24. , 25.1, 31.5, 23.7, 23.3, 22. , 20.1,\n",
       "        22.2, 23.7, 17.6, 18.5, 24.3, 20.5, 24.5, 26.2, 24.4, 24.8, 29.6,\n",
       "        42.8, 21.9, 20.9, 44. , 50. , 36. , 30.1, 33.8, 43.1, 48.8, 31. ,\n",
       "        36.5, 22.8, 30.7, 50. , 43.5, 20.7, 21.1, 25.2, 24.4, 35.2, 32.4,\n",
       "        32. , 33.2, 33.1, 29.1, 35.1, 45.4, 35.4, 46. , 50. , 32.2, 22. ,\n",
       "        20.1, 23.2, 22.3, 24.8, 28.5, 37.3, 27.9, 23.9, 21.7, 28.6, 27.1,\n",
       "        20.3, 22.5, 29. , 24.8, 22. , 26.4, 33.1, 36.1, 28.4, 33.4, 28.2,\n",
       "        22.8, 20.3, 16.1, 22.1, 19.4, 21.6, 23.8, 16.2, 17.8, 19.8, 23.1,\n",
       "        21. , 23.8, 23.1, 20.4, 18.5, 25. , 24.6, 23. , 22.2, 19.3, 22.6,\n",
       "        19.8, 17.1, 19.4, 22.2, 20.7, 21.1, 19.5, 18.5, 20.6, 19. , 18.7,\n",
       "        32.7, 16.5, 23.9, 31.2, 17.5, 17.2, 23.1, 24.5, 26.6, 22.9, 24.1,\n",
       "        18.6, 30.1, 18.2, 20.6, 17.8, 21.7, 22.7, 22.6, 25. , 19.9, 20.8,\n",
       "        16.8, 21.9, 27.5, 21.9, 23.1, 50. , 50. , 50. , 50. , 50. , 13.8,\n",
       "        13.8, 15. , 13.9, 13.3, 13.1, 10.2, 10.4, 10.9, 11.3, 12.3,  8.8,\n",
       "         7.2, 10.5,  7.4, 10.2, 11.5, 15.1, 23.2,  9.7, 13.8, 12.7, 13.1,\n",
       "        12.5,  8.5,  5. ,  6.3,  5.6,  7.2, 12.1,  8.3,  8.5,  5. , 11.9,\n",
       "        27.9, 17.2, 27.5, 15. , 17.2, 17.9, 16.3,  7. ,  7.2,  7.5, 10.4,\n",
       "         8.8,  8.4, 16.7, 14.2, 20.8, 13.4, 11.7,  8.3, 10.2, 10.9, 11. ,\n",
       "         9.5, 14.5, 14.1, 16.1, 14.3, 11.7, 13.4,  9.6,  8.7,  8.4, 12.8,\n",
       "        10.5, 17.1, 18.4, 15.4, 10.8, 11.8, 14.9, 12.6, 14.1, 13. , 13.4,\n",
       "        15.2, 16.1, 17.8, 14.9, 14.1, 12.7, 13.5, 14.9, 20. , 16.4, 17.7,\n",
       "        19.5, 20.2, 21.4, 19.9, 19. , 19.1, 19.1, 20.1, 19.9, 19.6, 23.2,\n",
       "        29.8, 13.8, 13.3, 16.7, 12. , 14.6, 21.4, 23. , 23.7, 25. , 21.8,\n",
       "        20.6, 21.2, 19.1, 20.6, 15.2,  7. ,  8.1, 13.6, 20.1, 21.8, 24.5,\n",
       "        23.1, 19.7, 18.3, 21.2, 17.5, 16.8, 22.4, 20.6, 23.9, 22. , 11.9]),\n",
       " 'feature_names': array(['CRIM', 'ZN', 'INDUS', 'CHAS', 'NOX', 'RM', 'AGE', 'DIS', 'RAD',\n",
       "        'TAX', 'PTRATIO', 'B', 'LSTAT'], dtype='<U7'),\n",
       " 'DESCR': \".. _boston_dataset:\\n\\nBoston house prices dataset\\n---------------------------\\n\\n**Data Set Characteristics:**  \\n\\n    :Number of Instances: 506 \\n\\n    :Number of Attributes: 13 numeric/categorical predictive. Median Value (attribute 14) is usually the target.\\n\\n    :Attribute Information (in order):\\n        - CRIM     per capita crime rate by town\\n        - ZN       proportion of residential land zoned for lots over 25,000 sq.ft.\\n        - INDUS    proportion of non-retail business acres per town\\n        - CHAS     Charles River dummy variable (= 1 if tract bounds river; 0 otherwise)\\n        - NOX      nitric oxides concentration (parts per 10 million)\\n        - RM       average number of rooms per dwelling\\n        - AGE      proportion of owner-occupied units built prior to 1940\\n        - DIS      weighted distances to five Boston employment centres\\n        - RAD      index of accessibility to radial highways\\n        - TAX      full-value property-tax rate per $10,000\\n        - PTRATIO  pupil-teacher ratio by town\\n        - B        1000(Bk - 0.63)^2 where Bk is the proportion of blacks by town\\n        - LSTAT    % lower status of the population\\n        - MEDV     Median value of owner-occupied homes in $1000's\\n\\n    :Missing Attribute Values: None\\n\\n    :Creator: Harrison, D. and Rubinfeld, D.L.\\n\\nThis is a copy of UCI ML housing dataset.\\nhttps://archive.ics.uci.edu/ml/machine-learning-databases/housing/\\n\\n\\nThis dataset was taken from the StatLib library which is maintained at Carnegie Mellon University.\\n\\nThe Boston house-price data of Harrison, D. and Rubinfeld, D.L. 'Hedonic\\nprices and the demand for clean air', J. Environ. Economics & Management,\\nvol.5, 81-102, 1978.   Used in Belsley, Kuh & Welsch, 'Regression diagnostics\\n...', Wiley, 1980.   N.B. Various transformations are used in the table on\\npages 244-261 of the latter.\\n\\nThe Boston house-price data has been used in many machine learning papers that address regression\\nproblems.   \\n     \\n.. topic:: References\\n\\n   - Belsley, Kuh & Welsch, 'Regression diagnostics: Identifying Influential Data and Sources of Collinearity', Wiley, 1980. 244-261.\\n   - Quinlan,R. (1993). Combining Instance-Based and Model-Based Learning. In Proceedings on the Tenth International Conference of Machine Learning, 236-243, University of Massachusetts, Amherst. Morgan Kaufmann.\\n\",\n",
       " 'filename': 'C:\\\\Users\\\\rdsla\\\\.tf2\\\\lib\\\\site-packages\\\\sklearn\\\\datasets\\\\data\\\\boston_house_prices.csv'}"
      ]
     },
     "execution_count": 3,
     "metadata": {},
     "output_type": "execute_result"
    }
   ],
   "source": [
    "bos"
   ]
  },
  {
   "cell_type": "code",
   "execution_count": 4,
   "metadata": {},
   "outputs": [],
   "source": [
    "x = pd.DataFrame(bos['data'])"
   ]
  },
  {
   "cell_type": "code",
   "execution_count": 5,
   "metadata": {},
   "outputs": [],
   "source": [
    "x.columns=bos['feature_names']"
   ]
  },
  {
   "cell_type": "code",
   "execution_count": 6,
   "metadata": {},
   "outputs": [
    {
     "data": {
      "text/html": [
       "<div>\n",
       "<style scoped>\n",
       "    .dataframe tbody tr th:only-of-type {\n",
       "        vertical-align: middle;\n",
       "    }\n",
       "\n",
       "    .dataframe tbody tr th {\n",
       "        vertical-align: top;\n",
       "    }\n",
       "\n",
       "    .dataframe thead th {\n",
       "        text-align: right;\n",
       "    }\n",
       "</style>\n",
       "<table border=\"1\" class=\"dataframe\">\n",
       "  <thead>\n",
       "    <tr style=\"text-align: right;\">\n",
       "      <th></th>\n",
       "      <th>CRIM</th>\n",
       "      <th>ZN</th>\n",
       "      <th>INDUS</th>\n",
       "      <th>CHAS</th>\n",
       "      <th>NOX</th>\n",
       "      <th>RM</th>\n",
       "      <th>AGE</th>\n",
       "      <th>DIS</th>\n",
       "      <th>RAD</th>\n",
       "      <th>TAX</th>\n",
       "      <th>PTRATIO</th>\n",
       "      <th>B</th>\n",
       "      <th>LSTAT</th>\n",
       "    </tr>\n",
       "  </thead>\n",
       "  <tbody>\n",
       "    <tr>\n",
       "      <th>0</th>\n",
       "      <td>0.00632</td>\n",
       "      <td>18.0</td>\n",
       "      <td>2.31</td>\n",
       "      <td>0.0</td>\n",
       "      <td>0.538</td>\n",
       "      <td>6.575</td>\n",
       "      <td>65.2</td>\n",
       "      <td>4.0900</td>\n",
       "      <td>1.0</td>\n",
       "      <td>296.0</td>\n",
       "      <td>15.3</td>\n",
       "      <td>396.90</td>\n",
       "      <td>4.98</td>\n",
       "    </tr>\n",
       "    <tr>\n",
       "      <th>1</th>\n",
       "      <td>0.02731</td>\n",
       "      <td>0.0</td>\n",
       "      <td>7.07</td>\n",
       "      <td>0.0</td>\n",
       "      <td>0.469</td>\n",
       "      <td>6.421</td>\n",
       "      <td>78.9</td>\n",
       "      <td>4.9671</td>\n",
       "      <td>2.0</td>\n",
       "      <td>242.0</td>\n",
       "      <td>17.8</td>\n",
       "      <td>396.90</td>\n",
       "      <td>9.14</td>\n",
       "    </tr>\n",
       "    <tr>\n",
       "      <th>2</th>\n",
       "      <td>0.02729</td>\n",
       "      <td>0.0</td>\n",
       "      <td>7.07</td>\n",
       "      <td>0.0</td>\n",
       "      <td>0.469</td>\n",
       "      <td>7.185</td>\n",
       "      <td>61.1</td>\n",
       "      <td>4.9671</td>\n",
       "      <td>2.0</td>\n",
       "      <td>242.0</td>\n",
       "      <td>17.8</td>\n",
       "      <td>392.83</td>\n",
       "      <td>4.03</td>\n",
       "    </tr>\n",
       "    <tr>\n",
       "      <th>3</th>\n",
       "      <td>0.03237</td>\n",
       "      <td>0.0</td>\n",
       "      <td>2.18</td>\n",
       "      <td>0.0</td>\n",
       "      <td>0.458</td>\n",
       "      <td>6.998</td>\n",
       "      <td>45.8</td>\n",
       "      <td>6.0622</td>\n",
       "      <td>3.0</td>\n",
       "      <td>222.0</td>\n",
       "      <td>18.7</td>\n",
       "      <td>394.63</td>\n",
       "      <td>2.94</td>\n",
       "    </tr>\n",
       "    <tr>\n",
       "      <th>4</th>\n",
       "      <td>0.06905</td>\n",
       "      <td>0.0</td>\n",
       "      <td>2.18</td>\n",
       "      <td>0.0</td>\n",
       "      <td>0.458</td>\n",
       "      <td>7.147</td>\n",
       "      <td>54.2</td>\n",
       "      <td>6.0622</td>\n",
       "      <td>3.0</td>\n",
       "      <td>222.0</td>\n",
       "      <td>18.7</td>\n",
       "      <td>396.90</td>\n",
       "      <td>5.33</td>\n",
       "    </tr>\n",
       "  </tbody>\n",
       "</table>\n",
       "</div>"
      ],
      "text/plain": [
       "      CRIM    ZN  INDUS  CHAS    NOX     RM   AGE     DIS  RAD    TAX  \\\n",
       "0  0.00632  18.0   2.31   0.0  0.538  6.575  65.2  4.0900  1.0  296.0   \n",
       "1  0.02731   0.0   7.07   0.0  0.469  6.421  78.9  4.9671  2.0  242.0   \n",
       "2  0.02729   0.0   7.07   0.0  0.469  7.185  61.1  4.9671  2.0  242.0   \n",
       "3  0.03237   0.0   2.18   0.0  0.458  6.998  45.8  6.0622  3.0  222.0   \n",
       "4  0.06905   0.0   2.18   0.0  0.458  7.147  54.2  6.0622  3.0  222.0   \n",
       "\n",
       "   PTRATIO       B  LSTAT  \n",
       "0     15.3  396.90   4.98  \n",
       "1     17.8  396.90   9.14  \n",
       "2     17.8  392.83   4.03  \n",
       "3     18.7  394.63   2.94  \n",
       "4     18.7  396.90   5.33  "
      ]
     },
     "execution_count": 6,
     "metadata": {},
     "output_type": "execute_result"
    }
   ],
   "source": [
    "x.head()"
   ]
  },
  {
   "cell_type": "code",
   "execution_count": 7,
   "metadata": {},
   "outputs": [],
   "source": [
    "y = bos['target']"
   ]
  },
  {
   "cell_type": "code",
   "execution_count": 8,
   "metadata": {},
   "outputs": [
    {
     "data": {
      "text/plain": [
       "array([24. , 21.6, 34.7, 33.4, 36.2, 28.7, 22.9, 27.1, 16.5, 18.9, 15. ,\n",
       "       18.9, 21.7, 20.4, 18.2, 19.9, 23.1, 17.5, 20.2, 18.2, 13.6, 19.6,\n",
       "       15.2, 14.5, 15.6, 13.9, 16.6, 14.8, 18.4, 21. , 12.7, 14.5, 13.2,\n",
       "       13.1, 13.5, 18.9, 20. , 21. , 24.7, 30.8, 34.9, 26.6, 25.3, 24.7,\n",
       "       21.2, 19.3, 20. , 16.6, 14.4, 19.4, 19.7, 20.5, 25. , 23.4, 18.9,\n",
       "       35.4, 24.7, 31.6, 23.3, 19.6, 18.7, 16. , 22.2, 25. , 33. , 23.5,\n",
       "       19.4, 22. , 17.4, 20.9, 24.2, 21.7, 22.8, 23.4, 24.1, 21.4, 20. ,\n",
       "       20.8, 21.2, 20.3, 28. , 23.9, 24.8, 22.9, 23.9, 26.6, 22.5, 22.2,\n",
       "       23.6, 28.7, 22.6, 22. , 22.9, 25. , 20.6, 28.4, 21.4, 38.7, 43.8,\n",
       "       33.2, 27.5, 26.5, 18.6, 19.3, 20.1, 19.5, 19.5, 20.4, 19.8, 19.4,\n",
       "       21.7, 22.8, 18.8, 18.7, 18.5, 18.3, 21.2, 19.2, 20.4, 19.3, 22. ,\n",
       "       20.3, 20.5, 17.3, 18.8, 21.4, 15.7, 16.2, 18. , 14.3, 19.2, 19.6,\n",
       "       23. , 18.4, 15.6, 18.1, 17.4, 17.1, 13.3, 17.8, 14. , 14.4, 13.4,\n",
       "       15.6, 11.8, 13.8, 15.6, 14.6, 17.8, 15.4, 21.5, 19.6, 15.3, 19.4,\n",
       "       17. , 15.6, 13.1, 41.3, 24.3, 23.3, 27. , 50. , 50. , 50. , 22.7,\n",
       "       25. , 50. , 23.8, 23.8, 22.3, 17.4, 19.1, 23.1, 23.6, 22.6, 29.4,\n",
       "       23.2, 24.6, 29.9, 37.2, 39.8, 36.2, 37.9, 32.5, 26.4, 29.6, 50. ,\n",
       "       32. , 29.8, 34.9, 37. , 30.5, 36.4, 31.1, 29.1, 50. , 33.3, 30.3,\n",
       "       34.6, 34.9, 32.9, 24.1, 42.3, 48.5, 50. , 22.6, 24.4, 22.5, 24.4,\n",
       "       20. , 21.7, 19.3, 22.4, 28.1, 23.7, 25. , 23.3, 28.7, 21.5, 23. ,\n",
       "       26.7, 21.7, 27.5, 30.1, 44.8, 50. , 37.6, 31.6, 46.7, 31.5, 24.3,\n",
       "       31.7, 41.7, 48.3, 29. , 24. , 25.1, 31.5, 23.7, 23.3, 22. , 20.1,\n",
       "       22.2, 23.7, 17.6, 18.5, 24.3, 20.5, 24.5, 26.2, 24.4, 24.8, 29.6,\n",
       "       42.8, 21.9, 20.9, 44. , 50. , 36. , 30.1, 33.8, 43.1, 48.8, 31. ,\n",
       "       36.5, 22.8, 30.7, 50. , 43.5, 20.7, 21.1, 25.2, 24.4, 35.2, 32.4,\n",
       "       32. , 33.2, 33.1, 29.1, 35.1, 45.4, 35.4, 46. , 50. , 32.2, 22. ,\n",
       "       20.1, 23.2, 22.3, 24.8, 28.5, 37.3, 27.9, 23.9, 21.7, 28.6, 27.1,\n",
       "       20.3, 22.5, 29. , 24.8, 22. , 26.4, 33.1, 36.1, 28.4, 33.4, 28.2,\n",
       "       22.8, 20.3, 16.1, 22.1, 19.4, 21.6, 23.8, 16.2, 17.8, 19.8, 23.1,\n",
       "       21. , 23.8, 23.1, 20.4, 18.5, 25. , 24.6, 23. , 22.2, 19.3, 22.6,\n",
       "       19.8, 17.1, 19.4, 22.2, 20.7, 21.1, 19.5, 18.5, 20.6, 19. , 18.7,\n",
       "       32.7, 16.5, 23.9, 31.2, 17.5, 17.2, 23.1, 24.5, 26.6, 22.9, 24.1,\n",
       "       18.6, 30.1, 18.2, 20.6, 17.8, 21.7, 22.7, 22.6, 25. , 19.9, 20.8,\n",
       "       16.8, 21.9, 27.5, 21.9, 23.1, 50. , 50. , 50. , 50. , 50. , 13.8,\n",
       "       13.8, 15. , 13.9, 13.3, 13.1, 10.2, 10.4, 10.9, 11.3, 12.3,  8.8,\n",
       "        7.2, 10.5,  7.4, 10.2, 11.5, 15.1, 23.2,  9.7, 13.8, 12.7, 13.1,\n",
       "       12.5,  8.5,  5. ,  6.3,  5.6,  7.2, 12.1,  8.3,  8.5,  5. , 11.9,\n",
       "       27.9, 17.2, 27.5, 15. , 17.2, 17.9, 16.3,  7. ,  7.2,  7.5, 10.4,\n",
       "        8.8,  8.4, 16.7, 14.2, 20.8, 13.4, 11.7,  8.3, 10.2, 10.9, 11. ,\n",
       "        9.5, 14.5, 14.1, 16.1, 14.3, 11.7, 13.4,  9.6,  8.7,  8.4, 12.8,\n",
       "       10.5, 17.1, 18.4, 15.4, 10.8, 11.8, 14.9, 12.6, 14.1, 13. , 13.4,\n",
       "       15.2, 16.1, 17.8, 14.9, 14.1, 12.7, 13.5, 14.9, 20. , 16.4, 17.7,\n",
       "       19.5, 20.2, 21.4, 19.9, 19. , 19.1, 19.1, 20.1, 19.9, 19.6, 23.2,\n",
       "       29.8, 13.8, 13.3, 16.7, 12. , 14.6, 21.4, 23. , 23.7, 25. , 21.8,\n",
       "       20.6, 21.2, 19.1, 20.6, 15.2,  7. ,  8.1, 13.6, 20.1, 21.8, 24.5,\n",
       "       23.1, 19.7, 18.3, 21.2, 17.5, 16.8, 22.4, 20.6, 23.9, 22. , 11.9])"
      ]
     },
     "execution_count": 8,
     "metadata": {},
     "output_type": "execute_result"
    }
   ],
   "source": [
    "y"
   ]
  },
  {
   "cell_type": "markdown",
   "metadata": {},
   "source": [
    "## Scale Data\n",
    "\n",
    "Neural Networks are especially sensitive do data scaling.  Nearly all the activation functions saturate at (0,1) or (-1,1)"
   ]
  },
  {
   "cell_type": "code",
   "execution_count": 9,
   "metadata": {},
   "outputs": [
    {
     "name": "stdout",
     "output_type": "stream",
     "text": [
      "Note: median values were scaled by multiplying by 0.0275938190 and adding -0.047737\n"
     ]
    }
   ],
   "source": [
    "from sklearn.preprocessing import MinMaxScaler\n",
    "\n",
    "scaler = MinMaxScaler(feature_range=(0, 1))\n",
    "scaled_train = scaler.fit_transform(x)\n",
    "\n",
    "# Print out the adjustment that the scaler applied to the total_earnings column of data\n",
    "print(\"Note: median values were scaled by multiplying by {:.10f} and adding {:.6f}\".format(scaler.scale_[12], scaler.min_[12]))\n",
    "multiplied_by = scaler.scale_[12]\n",
    "added = scaler.min_[12]\n",
    "\n",
    "scaled_train_df = pd.DataFrame(scaled_train, columns=x.columns.values)"
   ]
  },
  {
   "cell_type": "code",
   "execution_count": 10,
   "metadata": {},
   "outputs": [],
   "source": [
    "import matplotlib.pyplot as plt\n",
    "%matplotlib inline"
   ]
  },
  {
   "cell_type": "code",
   "execution_count": 11,
   "metadata": {
    "scrolled": true
   },
   "outputs": [
    {
     "data": {
      "image/png": "[encoded data removed]",
      "text/plain": [
       "<Figure size 432x288 with 1 Axes>"
      ]
     },
     "metadata": {
      "needs_background": "light"
     },
     "output_type": "display_data"
    },
    {
     "data": {
      "image/png": "[encoded data removed]",
      "text/plain": [
       "<Figure size 432x288 with 1 Axes>"
      ]
     },
     "metadata": {
      "needs_background": "light"
     },
     "output_type": "display_data"
    },
    {
     "data": {
      "image/png": "[encoded data removed]",
      "text/plain": [
       "<Figure size 432x288 with 1 Axes>"
      ]
     },
     "metadata": {
      "needs_background": "light"
     },
     "output_type": "display_data"
    },
    {
     "data": {
      "image/png": "[encoded data removed]",
      "text/plain": [
       "<Figure size 432x288 with 1 Axes>"
      ]
     },
     "metadata": {
      "needs_background": "light"
     },
     "output_type": "display_data"
    },
    {
     "data": {
      "image/png": "[encoded data removed]",
      "text/plain": [
       "<Figure size 432x288 with 1 Axes>"
      ]
     },
     "metadata": {
      "needs_background": "light"
     },
     "output_type": "display_data"
    },
    {
     "data": {
      "image/png": "[encoded data removed]",
      "text/plain": [
       "<Figure size 432x288 with 1 Axes>"
      ]
     },
     "metadata": {
      "needs_background": "light"
     },
     "output_type": "display_data"
    },
    {
     "data": {
      "image/png": "[encoded data removed]",
      "text/plain": [
       "<Figure size 432x288 with 1 Axes>"
      ]
     },
     "metadata": {
      "needs_background": "light"
     },
     "output_type": "display_data"
    },
    {
     "data": {
      "image/png": "[encoded data removed]",
      "text/plain": [
       "<Figure size 432x288 with 1 Axes>"
      ]
     },
     "metadata": {
      "needs_background": "light"
     },
     "output_type": "display_data"
    },
    {
     "data": {
      "image/png": "[encoded data removed]",
      "text/plain": [
       "<Figure size 432x288 with 1 Axes>"
      ]
     },
     "metadata": {
      "needs_background": "light"
     },
     "output_type": "display_data"
    },
    {
     "data": {
      "image/png": "[encoded data removed]",
      "text/plain": [
       "<Figure size 432x288 with 1 Axes>"
      ]
     },
     "metadata": {
      "needs_background": "light"
     },
     "output_type": "display_data"
    },
    {
     "data": {
      "image/png": "[encoded data removed]",
      "text/plain": [
       "<Figure size 432x288 with 1 Axes>"
      ]
     },
     "metadata": {
      "needs_background": "light"
     },
     "output_type": "display_data"
    },
    {
     "data": {
      "image/png": "[encoded data removed]",
      "text/plain": [
       "<Figure size 432x288 with 1 Axes>"
      ]
     },
     "metadata": {
      "needs_background": "light"
     },
     "output_type": "display_data"
    },
    {
     "data": {
      "image/png": "[encoded data removed]",
      "text/plain": [
       "<Figure size 432x288 with 1 Axes>"
      ]
     },
     "metadata": {
      "needs_background": "light"
     },
     "output_type": "display_data"
    }
   ],
   "source": [
    "for i in scaled_train_df:\n",
    "    scaled_train_df[i].hist()\n",
    "    plt.show()"
   ]
  },
  {
   "cell_type": "markdown",
   "metadata": {},
   "source": [
    "## Model \n",
    "Alright lets get down to business.  We will use the Sequential() class to build a model.  This means we just add layer after layer to the model (in order).\n",
    "\n",
    "Note that this is NOT the keras package proper.  This is an implementation of the Keras API in tensorflow.  THey are closely related, but this IS Tensorflow (package), not Keras (package)"
   ]
  },
  {
   "cell_type": "code",
   "execution_count": 12,
   "metadata": {},
   "outputs": [
    {
     "data": {
      "text/plain": [
       "(506, 13)"
      ]
     },
     "execution_count": 12,
     "metadata": {},
     "output_type": "execute_result"
    }
   ],
   "source": [
    "x.shape"
   ]
  },
  {
   "cell_type": "code",
   "execution_count": 26,
   "metadata": {},
   "outputs": [],
   "source": [
    "model = tf.keras.Sequential()\n",
    "model.add(layers.Dense(100, activation='tanh'))\n",
    "model.add(layers.Dense(100, activation='tanh'))\n",
    "model.add(layers.Dense(100, activation='tanh'))\n",
    "model.add(layers.Dense(100, activation='tanh'))\n",
    "model.add(layers.Dense(100, activation='tanh'))\n",
    "model.add(layers.Dense(1))\n",
    "\n"
   ]
  },
  {
   "cell_type": "markdown",
   "metadata": {},
   "source": [
    "## Compile Model\n",
    "\n",
    "The compile step adds an optimizer (solver) and your loss metrics."
   ]
  },
  {
   "cell_type": "code",
   "execution_count": 27,
   "metadata": {},
   "outputs": [],
   "source": [
    "model.compile(optimizer='rmsprop',\n",
    "              loss='mean_squared_error',\n",
    "              metrics=['mean_squared_error'])"
   ]
  },
  {
   "cell_type": "markdown",
   "metadata": {},
   "source": [
    "## Fit model\n",
    "Now it is time to train"
   ]
  },
  {
   "cell_type": "code",
   "execution_count": 28,
   "metadata": {},
   "outputs": [
    {
     "name": "stdout",
     "output_type": "stream",
     "text": [
      "Train on 506 samples\n",
      "Epoch 1/10\n",
      "506/506 [==============================] - 1s 1ms/sample - loss: 275.5001 - mean_squared_error: 275.5001\n",
      "Epoch 2/10\n",
      "506/506 [==============================] - 0s 160us/sample - loss: 153.6807 - mean_squared_error: 153.6808\n",
      "Epoch 3/10\n",
      "506/506 [==============================] - 0s 162us/sample - loss: 127.4710 - mean_squared_error: 127.4710\n",
      "Epoch 4/10\n",
      "506/506 [==============================] - 0s 158us/sample - loss: 110.2462 - mean_squared_error: 110.2462\n",
      "Epoch 5/10\n",
      "506/506 [==============================] - 0s 158us/sample - loss: 98.5214 - mean_squared_error: 98.5214\n",
      "Epoch 6/10\n",
      "506/506 [==============================] - 0s 154us/sample - loss: 90.9412 - mean_squared_error: 90.9413\n",
      "Epoch 7/10\n",
      "506/506 [==============================] - 0s 172us/sample - loss: 86.7387 - mean_squared_error: 86.7387\n",
      "Epoch 8/10\n",
      "506/506 [==============================] - 0s 152us/sample - loss: 85.0016 - mean_squared_error: 85.0016\n",
      "Epoch 9/10\n",
      "506/506 [==============================] - 0s 160us/sample - loss: 84.6497 - mean_squared_error: 84.6497\n",
      "Epoch 10/10\n",
      "506/506 [==============================] - 0s 158us/sample - loss: 84.5859 - mean_squared_error: 84.5859\n"
     ]
    },
    {
     "data": {
      "text/plain": [
       "<tensorflow.python.keras.callbacks.History at 0x1f51db22b00>"
      ]
     },
     "execution_count": 28,
     "metadata": {},
     "output_type": "execute_result"
    }
   ],
   "source": [
    "model.fit(scaled_train_df.values, y, epochs=10, batch_size=32)"
   ]
  },
  {
   "cell_type": "markdown",
   "metadata": {},
   "source": [
    "## Visualize that data\n",
    "Tensorboard allows you to look at your training curves in real time.  All we need to do here is add a \"callback\" that is executed every epoch end.  Tensorboard writes a summary of the model output.  If you manually build a neural network, you need to add tf.summary operations.\n",
    "\n",
    "To run tensorboard type\n",
    "\n",
    "`tensorboard --logdir logs`\n",
    "\n",
    "Then go to localhost:6006 in your web browser"
   ]
  },
  {
   "cell_type": "code",
   "execution_count": 29,
   "metadata": {},
   "outputs": [],
   "source": [
    "from time import time\n",
    "from tensorflow.keras.callbacks import TensorBoard\n",
    "tb = TensorBoard(log_dir=f\"logs\\\\{time()}\")"
   ]
  },
  {
   "cell_type": "code",
   "execution_count": 30,
   "metadata": {},
   "outputs": [],
   "source": [
    "model.compile(optimizer='rmsprop',\n",
    "              loss='mean_squared_error',\n",
    "              metrics=['mean_squared_error'])"
   ]
  },
  {
   "cell_type": "code",
   "execution_count": 31,
   "metadata": {
    "scrolled": true
   },
   "outputs": [
    {
     "name": "stdout",
     "output_type": "stream",
     "text": [
      "Train on 506 samples\n",
      "Epoch 1/5\n",
      "506/506 [==============================] - 1s 2ms/sample - loss: 74.5374 - mean_squared_error: 74.5374\n",
      "Epoch 2/5\n",
      "506/506 [==============================] - 1s 1ms/sample - loss: 50.7204 - mean_squared_error: 50.7204\n",
      "Epoch 3/5\n",
      "506/506 [==============================] - 1s 1ms/sample - loss: 37.1038 - mean_squared_error: 37.1038\n",
      "Epoch 4/5\n",
      "506/506 [==============================] - 1s 1ms/sample - loss: 30.3855 - mean_squared_error: 30.3855\n",
      "Epoch 5/5\n",
      "506/506 [==============================] - 1s 1ms/sample - loss: 24.8462 - mean_squared_error: 24.8463\n"
     ]
    },
    {
     "data": {
      "text/plain": [
       "<tensorflow.python.keras.callbacks.History at 0x1f5176437f0>"
      ]
     },
     "execution_count": 31,
     "metadata": {},
     "output_type": "execute_result"
    }
   ],
   "source": [
    "model.fit(scaled_train_df.values, y, epochs=5, batch_size=4, callbacks=[tb])"
   ]
  },
  {
   "cell_type": "markdown",
   "metadata": {},
   "source": [
    "## Validate!!\n",
    "SO far we have used the entire dataset to train.  We know that Prof Slater frown upon this.  In Neural Networks, rahter than a cross validation, a validation split is done.  Lets repeat the experiment with splits\n"
   ]
  },
  {
   "cell_type": "code",
   "execution_count": 32,
   "metadata": {},
   "outputs": [],
   "source": [
    "from sklearn.model_selection import train_test_split\n",
    "x_train, x_test, y_train, y_test = train_test_split(scaled_train_df, y, test_size=0.20, random_state=1776)"
   ]
  },
  {
   "cell_type": "code",
   "execution_count": 33,
   "metadata": {},
   "outputs": [],
   "source": [
    "model_final = tf.keras.Sequential()\n",
    "# Adds a densely-connected layer with 64 units to the model:\n",
    "\n",
    "model_final.add(layers.Dense(100, activation='sigmoid'))\n",
    "model_final.add(layers.Dense(100, activation='sigmoid'))\n",
    "model_final.add(layers.Dense(1))"
   ]
  },
  {
   "cell_type": "code",
   "execution_count": 35,
   "metadata": {},
   "outputs": [],
   "source": [
    "model_final.compile(optimizer='SGD',\n",
    "              loss='mean_squared_error',\n",
    "              metrics=['mean_squared_error'])"
   ]
  },
  {
   "cell_type": "code",
   "execution_count": 37,
   "metadata": {},
   "outputs": [
    {
     "name": "stdout",
     "output_type": "stream",
     "text": [
      "Train on 404 samples, validate on 102 samples\n",
      "Epoch 1/100\n",
      "404/404 [==============================] - 1s 1ms/sample - loss: 96.5154 - mean_squared_error: 96.5154 - val_loss: 113.8945 - val_mean_squared_error: 113.8945\n",
      "Epoch 2/100\n",
      "404/404 [==============================] - 0s 822us/sample - loss: 77.8690 - mean_squared_error: 77.8690 - val_loss: 95.6789 - val_mean_squared_error: 95.6789\n",
      "Epoch 3/100\n",
      "404/404 [==============================] - 0s 923us/sample - loss: 54.1743 - mean_squared_error: 54.1743 - val_loss: 55.4073 - val_mean_squared_error: 55.4073\n",
      "Epoch 4/100\n",
      "404/404 [==============================] - 0s 842us/sample - loss: 46.7451 - mean_squared_error: 46.7451 - val_loss: 49.2571 - val_mean_squared_error: 49.2571\n",
      "Epoch 5/100\n",
      "404/404 [==============================] - 0s 862us/sample - loss: 37.6906 - mean_squared_error: 37.6906 - val_loss: 39.8193 - val_mean_squared_error: 39.8193\n",
      "Epoch 6/100\n",
      "404/404 [==============================] - 0s 862us/sample - loss: 36.2492 - mean_squared_error: 36.2492 - val_loss: 32.6186 - val_mean_squared_error: 32.6186\n",
      "Epoch 7/100\n",
      "404/404 [==============================] - 0s 842us/sample - loss: 26.7716 - mean_squared_error: 26.7716 - val_loss: 39.1134 - val_mean_squared_error: 39.1134\n",
      "Epoch 8/100\n",
      "404/404 [==============================] - 0s 884us/sample - loss: 24.3571 - mean_squared_error: 24.3571 - val_loss: 82.6825 - val_mean_squared_error: 82.6825\n",
      "Epoch 9/100\n",
      "404/404 [==============================] - 0s 864us/sample - loss: 23.8888 - mean_squared_error: 23.8888 - val_loss: 27.8410 - val_mean_squared_error: 27.8410\n",
      "Epoch 10/100\n",
      "404/404 [==============================] - 0s 802us/sample - loss: 24.1575 - mean_squared_error: 24.1575 - val_loss: 32.5829 - val_mean_squared_error: 32.5829\n",
      "Epoch 11/100\n",
      "404/404 [==============================] - 0s 840us/sample - loss: 22.0419 - mean_squared_error: 22.0419 - val_loss: 22.8113 - val_mean_squared_error: 22.8113\n",
      "Epoch 12/100\n",
      "404/404 [==============================] - 0s 802us/sample - loss: 23.5082 - mean_squared_error: 23.5082 - val_loss: 22.5200 - val_mean_squared_error: 22.5200\n",
      "Epoch 13/100\n",
      "404/404 [==============================] - 0s 844us/sample - loss: 20.4746 - mean_squared_error: 20.4746 - val_loss: 22.0079 - val_mean_squared_error: 22.0079\n",
      "Epoch 14/100\n",
      "404/404 [==============================] - 0s 822us/sample - loss: 20.0847 - mean_squared_error: 20.0847 - val_loss: 29.6089 - val_mean_squared_error: 29.6089\n",
      "Epoch 15/100\n",
      "404/404 [==============================] - 0s 886us/sample - loss: 24.0950 - mean_squared_error: 24.0950 - val_loss: 25.6311 - val_mean_squared_error: 25.6311\n",
      "Epoch 16/100\n",
      "404/404 [==============================] - 0s 842us/sample - loss: 20.1462 - mean_squared_error: 20.1462 - val_loss: 22.9229 - val_mean_squared_error: 22.9229\n",
      "Epoch 17/100\n",
      "404/404 [==============================] - 0s 844us/sample - loss: 20.2195 - mean_squared_error: 20.2195 - val_loss: 28.7379 - val_mean_squared_error: 28.7379\n",
      "Epoch 18/100\n",
      "404/404 [==============================] - 0s 864us/sample - loss: 18.2389 - mean_squared_error: 18.2389 - val_loss: 22.2907 - val_mean_squared_error: 22.2907\n",
      "Epoch 19/100\n",
      "404/404 [==============================] - 0s 842us/sample - loss: 19.5088 - mean_squared_error: 19.5088 - val_loss: 18.5386 - val_mean_squared_error: 18.5386\n",
      "Epoch 20/100\n",
      "404/404 [==============================] - 0s 864us/sample - loss: 19.0949 - mean_squared_error: 19.0949 - val_loss: 26.9495 - val_mean_squared_error: 26.9495\n",
      "Epoch 21/100\n",
      "404/404 [==============================] - 0s 842us/sample - loss: 17.6038 - mean_squared_error: 17.6038 - val_loss: 20.2625 - val_mean_squared_error: 20.2625\n",
      "Epoch 22/100\n",
      "404/404 [==============================] - 0s 781us/sample - loss: 16.4765 - mean_squared_error: 16.4765 - val_loss: 24.2724 - val_mean_squared_error: 24.2724\n",
      "Epoch 23/100\n",
      "404/404 [==============================] - 0s 966us/sample - loss: 18.1526 - mean_squared_error: 18.1526 - val_loss: 24.7042 - val_mean_squared_error: 24.7042\n",
      "Epoch 24/100\n",
      "404/404 [==============================] - 0s 863us/sample - loss: 19.0551 - mean_squared_error: 19.0551 - val_loss: 25.4105 - val_mean_squared_error: 25.4105\n",
      "Epoch 25/100\n",
      "404/404 [==============================] - 0s 945us/sample - loss: 17.1999 - mean_squared_error: 17.1999 - val_loss: 20.8693 - val_mean_squared_error: 20.8693\n",
      "Epoch 26/100\n",
      "404/404 [==============================] - 0s 946us/sample - loss: 17.6670 - mean_squared_error: 17.6670 - val_loss: 24.0818 - val_mean_squared_error: 24.0818\n",
      "Epoch 27/100\n",
      "404/404 [==============================] - 0s 761us/sample - loss: 16.7198 - mean_squared_error: 16.7199 - val_loss: 27.5537 - val_mean_squared_error: 27.5537\n",
      "Epoch 28/100\n",
      "404/404 [==============================] - 0s 822us/sample - loss: 16.0689 - mean_squared_error: 16.0689 - val_loss: 18.4604 - val_mean_squared_error: 18.4604\n",
      "Epoch 29/100\n",
      "404/404 [==============================] - 0s 782us/sample - loss: 17.1036 - mean_squared_error: 17.1036 - val_loss: 17.1065 - val_mean_squared_error: 17.1065\n",
      "Epoch 30/100\n",
      "404/404 [==============================] - 0s 824us/sample - loss: 15.7905 - mean_squared_error: 15.7905 - val_loss: 21.8115 - val_mean_squared_error: 21.8115\n",
      "Epoch 31/100\n",
      "404/404 [==============================] - 0s 820us/sample - loss: 16.5168 - mean_squared_error: 16.5168 - val_loss: 21.2102 - val_mean_squared_error: 21.2102\n",
      "Epoch 32/100\n",
      "404/404 [==============================] - 0s 822us/sample - loss: 16.3885 - mean_squared_error: 16.3885 - val_loss: 15.9963 - val_mean_squared_error: 15.9963\n",
      "Epoch 33/100\n",
      "404/404 [==============================] - 0s 800us/sample - loss: 16.8528 - mean_squared_error: 16.8528 - val_loss: 16.5429 - val_mean_squared_error: 16.5429\n",
      "Epoch 34/100\n",
      "404/404 [==============================] - 0s 782us/sample - loss: 16.8980 - mean_squared_error: 16.8980 - val_loss: 16.5335 - val_mean_squared_error: 16.5335\n",
      "Epoch 35/100\n",
      "404/404 [==============================] - 0s 819us/sample - loss: 15.4509 - mean_squared_error: 15.4509 - val_loss: 17.4360 - val_mean_squared_error: 17.4360\n",
      "Epoch 36/100\n",
      "404/404 [==============================] - 0s 844us/sample - loss: 16.3984 - mean_squared_error: 16.3984 - val_loss: 17.3159 - val_mean_squared_error: 17.3159\n",
      "Epoch 37/100\n",
      "404/404 [==============================] - 0s 842us/sample - loss: 15.7774 - mean_squared_error: 15.7774 - val_loss: 54.7829 - val_mean_squared_error: 54.7829\n",
      "Epoch 38/100\n",
      "404/404 [==============================] - 0s 739us/sample - loss: 16.8373 - mean_squared_error: 16.8373 - val_loss: 19.9217 - val_mean_squared_error: 19.9217\n",
      "Epoch 39/100\n",
      "404/404 [==============================] - 0s 881us/sample - loss: 15.3954 - mean_squared_error: 15.3954 - val_loss: 19.0722 - val_mean_squared_error: 19.0722\n",
      "Epoch 40/100\n",
      "404/404 [==============================] - 0s 862us/sample - loss: 16.2025 - mean_squared_error: 16.2025 - val_loss: 35.3466 - val_mean_squared_error: 35.3466\n",
      "Epoch 41/100\n",
      "404/404 [==============================] - 0s 842us/sample - loss: 15.7989 - mean_squared_error: 15.7989 - val_loss: 16.6281 - val_mean_squared_error: 16.6281\n",
      "Epoch 42/100\n",
      "404/404 [==============================] - 0s 819us/sample - loss: 15.6015 - mean_squared_error: 15.6015 - val_loss: 16.2968 - val_mean_squared_error: 16.2968\n",
      "Epoch 43/100\n",
      "404/404 [==============================] - 0s 904us/sample - loss: 15.6072 - mean_squared_error: 15.6072 - val_loss: 15.4450 - val_mean_squared_error: 15.4450\n",
      "Epoch 44/100\n",
      "404/404 [==============================] - 0s 760us/sample - loss: 15.9749 - mean_squared_error: 15.9749 - val_loss: 16.1560 - val_mean_squared_error: 16.1560\n",
      "Epoch 45/100\n",
      "404/404 [==============================] - 0s 800us/sample - loss: 14.7142 - mean_squared_error: 14.7142 - val_loss: 22.9961 - val_mean_squared_error: 22.9961\n",
      "Epoch 46/100\n",
      "404/404 [==============================] - 0s 835us/sample - loss: 15.5966 - mean_squared_error: 15.5966 - val_loss: 17.7962 - val_mean_squared_error: 17.7962\n",
      "Epoch 47/100\n",
      "404/404 [==============================] - 0s 790us/sample - loss: 15.3863 - mean_squared_error: 15.3863 - val_loss: 15.7483 - val_mean_squared_error: 15.7483\n",
      "Epoch 48/100\n"
     ]
    },
    {
     "name": "stdout",
     "output_type": "stream",
     "text": [
      "404/404 [==============================] - 0s 881us/sample - loss: 14.7188 - mean_squared_error: 14.7188 - val_loss: 15.4375 - val_mean_squared_error: 15.4375\n",
      "Epoch 49/100\n",
      "404/404 [==============================] - 0s 760us/sample - loss: 14.8296 - mean_squared_error: 14.8296 - val_loss: 18.9363 - val_mean_squared_error: 18.9363\n",
      "Epoch 50/100\n",
      "404/404 [==============================] - 0s 822us/sample - loss: 15.1496 - mean_squared_error: 15.1496 - val_loss: 14.8533 - val_mean_squared_error: 14.8533\n",
      "Epoch 51/100\n",
      "404/404 [==============================] - 0s 822us/sample - loss: 14.8606 - mean_squared_error: 14.8606 - val_loss: 16.8683 - val_mean_squared_error: 16.8683\n",
      "Epoch 52/100\n",
      "404/404 [==============================] - 0s 842us/sample - loss: 14.4031 - mean_squared_error: 14.4031 - val_loss: 24.4085 - val_mean_squared_error: 24.4085\n",
      "Epoch 53/100\n",
      "404/404 [==============================] - 0s 802us/sample - loss: 14.8026 - mean_squared_error: 14.8026 - val_loss: 14.6593 - val_mean_squared_error: 14.6593\n",
      "Epoch 54/100\n",
      "404/404 [==============================] - 0s 802us/sample - loss: 14.2742 - mean_squared_error: 14.2742 - val_loss: 17.4309 - val_mean_squared_error: 17.4309\n",
      "Epoch 55/100\n",
      "404/404 [==============================] - 0s 884us/sample - loss: 14.8084 - mean_squared_error: 14.8084 - val_loss: 20.3161 - val_mean_squared_error: 20.3161\n",
      "Epoch 56/100\n",
      "404/404 [==============================] - 0s 842us/sample - loss: 15.0534 - mean_squared_error: 15.0534 - val_loss: 16.7042 - val_mean_squared_error: 16.7042\n",
      "Epoch 57/100\n",
      "404/404 [==============================] - 0s 822us/sample - loss: 14.7266 - mean_squared_error: 14.7266 - val_loss: 15.6514 - val_mean_squared_error: 15.6514\n",
      "Epoch 58/100\n",
      "404/404 [==============================] - 0s 842us/sample - loss: 14.8303 - mean_squared_error: 14.8303 - val_loss: 17.8359 - val_mean_squared_error: 17.8359\n",
      "Epoch 59/100\n",
      "404/404 [==============================] - 0s 802us/sample - loss: 14.6685 - mean_squared_error: 14.6685 - val_loss: 15.2464 - val_mean_squared_error: 15.2464\n",
      "Epoch 60/100\n",
      "404/404 [==============================] - 0s 948us/sample - loss: 14.9258 - mean_squared_error: 14.9258 - val_loss: 13.8913 - val_mean_squared_error: 13.8913\n",
      "Epoch 61/100\n",
      "404/404 [==============================] - 0s 904us/sample - loss: 14.8008 - mean_squared_error: 14.8008 - val_loss: 27.1850 - val_mean_squared_error: 27.1850\n",
      "Epoch 62/100\n",
      "404/404 [==============================] - 0s 782us/sample - loss: 14.1393 - mean_squared_error: 14.1393 - val_loss: 15.8294 - val_mean_squared_error: 15.8294\n",
      "Epoch 63/100\n",
      "404/404 [==============================] - 0s 783us/sample - loss: 14.4473 - mean_squared_error: 14.4473 - val_loss: 15.6562 - val_mean_squared_error: 15.6562\n",
      "Epoch 64/100\n",
      "404/404 [==============================] - 0s 844us/sample - loss: 14.5390 - mean_squared_error: 14.5389 - val_loss: 13.8140 - val_mean_squared_error: 13.8140\n",
      "Epoch 65/100\n",
      "404/404 [==============================] - 0s 904us/sample - loss: 13.9659 - mean_squared_error: 13.9659 - val_loss: 15.8388 - val_mean_squared_error: 15.8388\n",
      "Epoch 66/100\n",
      "404/404 [==============================] - 0s 924us/sample - loss: 14.3723 - mean_squared_error: 14.3723 - val_loss: 15.3886 - val_mean_squared_error: 15.3886\n",
      "Epoch 67/100\n",
      "404/404 [==============================] - 0s 906us/sample - loss: 14.3548 - mean_squared_error: 14.3548 - val_loss: 16.9508 - val_mean_squared_error: 16.9508\n",
      "Epoch 68/100\n",
      "404/404 [==============================] - 0s 884us/sample - loss: 13.7465 - mean_squared_error: 13.7465 - val_loss: 20.9607 - val_mean_squared_error: 20.9607\n",
      "Epoch 69/100\n",
      "404/404 [==============================] - 0s 839us/sample - loss: 14.6765 - mean_squared_error: 14.6765 - val_loss: 15.8240 - val_mean_squared_error: 15.8240\n",
      "Epoch 70/100\n",
      "404/404 [==============================] - 0s 822us/sample - loss: 14.3189 - mean_squared_error: 14.3189 - val_loss: 14.7800 - val_mean_squared_error: 14.7800\n",
      "Epoch 71/100\n",
      "404/404 [==============================] - 0s 842us/sample - loss: 13.8344 - mean_squared_error: 13.8344 - val_loss: 15.8327 - val_mean_squared_error: 15.8327\n",
      "Epoch 72/100\n",
      "404/404 [==============================] - 0s 821us/sample - loss: 14.1969 - mean_squared_error: 14.1969 - val_loss: 15.7675 - val_mean_squared_error: 15.7675\n",
      "Epoch 73/100\n",
      "404/404 [==============================] - 0s 884us/sample - loss: 13.7131 - mean_squared_error: 13.7131 - val_loss: 15.7234 - val_mean_squared_error: 15.7234\n",
      "Epoch 74/100\n",
      "404/404 [==============================] - 0s 863us/sample - loss: 13.7419 - mean_squared_error: 13.7419 - val_loss: 15.6919 - val_mean_squared_error: 15.6919\n",
      "Epoch 75/100\n",
      "404/404 [==============================] - 0s 861us/sample - loss: 13.6752 - mean_squared_error: 13.6752 - val_loss: 13.1027 - val_mean_squared_error: 13.1027\n",
      "Epoch 76/100\n",
      "404/404 [==============================] - 0s 882us/sample - loss: 13.8082 - mean_squared_error: 13.8082 - val_loss: 16.1128 - val_mean_squared_error: 16.1128\n",
      "Epoch 77/100\n",
      "404/404 [==============================] - 0s 842us/sample - loss: 13.7597 - mean_squared_error: 13.7597 - val_loss: 13.4384 - val_mean_squared_error: 13.4384\n",
      "Epoch 78/100\n",
      "404/404 [==============================] - 0s 842us/sample - loss: 13.1452 - mean_squared_error: 13.1452 - val_loss: 14.0659 - val_mean_squared_error: 14.0659\n",
      "Epoch 79/100\n",
      "404/404 [==============================] - 0s 842us/sample - loss: 13.6914 - mean_squared_error: 13.6914 - val_loss: 15.5889 - val_mean_squared_error: 15.5889\n",
      "Epoch 80/100\n",
      "404/404 [==============================] - 0s 782us/sample - loss: 13.5891 - mean_squared_error: 13.5891 - val_loss: 14.0702 - val_mean_squared_error: 14.0702\n",
      "Epoch 81/100\n",
      "404/404 [==============================] - 0s 926us/sample - loss: 13.1645 - mean_squared_error: 13.1645 - val_loss: 19.0206 - val_mean_squared_error: 19.0206\n",
      "Epoch 82/100\n",
      "404/404 [==============================] - 0s 781us/sample - loss: 13.8235 - mean_squared_error: 13.8235 - val_loss: 13.4144 - val_mean_squared_error: 13.4144\n",
      "Epoch 83/100\n",
      "404/404 [==============================] - 0s 943us/sample - loss: 13.3995 - mean_squared_error: 13.3995 - val_loss: 14.4334 - val_mean_squared_error: 14.4334\n",
      "Epoch 84/100\n",
      "404/404 [==============================] - 0s 966us/sample - loss: 13.1782 - mean_squared_error: 13.1782 - val_loss: 15.3239 - val_mean_squared_error: 15.3239\n",
      "Epoch 85/100\n",
      "404/404 [==============================] - 0s 884us/sample - loss: 12.9122 - mean_squared_error: 12.9122 - val_loss: 17.1879 - val_mean_squared_error: 17.1879\n",
      "Epoch 86/100\n",
      "404/404 [==============================] - 0s 926us/sample - loss: 13.1355 - mean_squared_error: 13.1355 - val_loss: 19.1248 - val_mean_squared_error: 19.1248\n",
      "Epoch 87/100\n",
      "404/404 [==============================] - 0s 905us/sample - loss: 13.1940 - mean_squared_error: 13.1940 - val_loss: 19.7813 - val_mean_squared_error: 19.7813\n",
      "Epoch 88/100\n",
      "404/404 [==============================] - 0s 843us/sample - loss: 13.2346 - mean_squared_error: 13.2346 - val_loss: 16.9922 - val_mean_squared_error: 16.9922\n",
      "Epoch 89/100\n",
      "404/404 [==============================] - 0s 844us/sample - loss: 13.0037 - mean_squared_error: 13.0037 - val_loss: 14.3370 - val_mean_squared_error: 14.3370\n",
      "Epoch 90/100\n",
      "404/404 [==============================] - 0s 800us/sample - loss: 13.5257 - mean_squared_error: 13.5257 - val_loss: 15.0881 - val_mean_squared_error: 15.0881\n",
      "Epoch 91/100\n",
      "404/404 [==============================] - 0s 843us/sample - loss: 13.3095 - mean_squared_error: 13.3095 - val_loss: 14.3427 - val_mean_squared_error: 14.3427\n",
      "Epoch 92/100\n",
      "404/404 [==============================] - 0s 802us/sample - loss: 13.4088 - mean_squared_error: 13.4088 - val_loss: 12.7013 - val_mean_squared_error: 12.7013\n",
      "Epoch 93/100\n",
      "404/404 [==============================] - 0s 862us/sample - loss: 13.1274 - mean_squared_error: 13.1274 - val_loss: 14.3730 - val_mean_squared_error: 14.3730\n",
      "Epoch 94/100\n",
      "404/404 [==============================] - 0s 698us/sample - loss: 12.5789 - mean_squared_error: 12.5789 - val_loss: 12.9323 - val_mean_squared_error: 12.9323\n",
      "Epoch 95/100\n",
      "404/404 [==============================] - 0s 863us/sample - loss: 12.9611 - mean_squared_error: 12.9611 - val_loss: 15.2887 - val_mean_squared_error: 15.2887\n"
     ]
    },
    {
     "name": "stdout",
     "output_type": "stream",
     "text": [
      "Epoch 96/100\n",
      "404/404 [==============================] - 0s 923us/sample - loss: 12.9459 - mean_squared_error: 12.9459 - val_loss: 12.8948 - val_mean_squared_error: 12.8948\n",
      "Epoch 97/100\n",
      "404/404 [==============================] - 0s 802us/sample - loss: 12.7930 - mean_squared_error: 12.7930 - val_loss: 13.5706 - val_mean_squared_error: 13.5706\n",
      "Epoch 98/100\n",
      "404/404 [==============================] - 0s 844us/sample - loss: 13.2841 - mean_squared_error: 13.2841 - val_loss: 13.1335 - val_mean_squared_error: 13.1335\n",
      "Epoch 99/100\n",
      "404/404 [==============================] - 0s 864us/sample - loss: 12.4478 - mean_squared_error: 12.4478 - val_loss: 12.4663 - val_mean_squared_error: 12.4663\n",
      "Epoch 100/100\n",
      "404/404 [==============================] - 0s 842us/sample - loss: 12.9044 - mean_squared_error: 12.9044 - val_loss: 12.1324 - val_mean_squared_error: 12.1324\n"
     ]
    },
    {
     "data": {
      "text/plain": [
       "<tensorflow.python.keras.callbacks.History at 0x1f528adfa90>"
      ]
     },
     "execution_count": 37,
     "metadata": {},
     "output_type": "execute_result"
    }
   ],
   "source": [
    "model_final.fit(x_train.values, y_train, validation_data=(x_test.values,y_test), epochs=100, batch_size=5, callbacks=[tb])"
   ]
  },
  {
   "cell_type": "markdown",
   "metadata": {},
   "source": [
    "## Classification?\n",
    "The only thing we really need to change is the final layer to predict classes"
   ]
  },
  {
   "cell_type": "code",
   "execution_count": 39,
   "metadata": {},
   "outputs": [],
   "source": [
    "model_iris = tf.keras.Sequential()\n",
    "# Adds a densely-connected layer with 64 units to the model:\n",
    "\n",
    "model_iris.add(layers.Dense(100, activation='sigmoid'))\n",
    "model_iris.add(layers.Dense(100, activation='sigmoid'))\n",
    "model_iris.add(layers.Dense(3 ,activation='sigmoid'),)\n",
    "\n",
    "model_iris.compile(optimizer='SGD',\n",
    "              loss=tf.keras.losses.SparseCategoricalCrossentropy(),\n",
    "              metrics=['accuracy'])"
   ]
  },
  {
   "cell_type": "code",
   "execution_count": 40,
   "metadata": {},
   "outputs": [],
   "source": [
    "iris = datasets.load_iris()"
   ]
  },
  {
   "cell_type": "code",
   "execution_count": 41,
   "metadata": {},
   "outputs": [],
   "source": [
    "x= iris['data']\n",
    "y = iris['target']\n",
    "# Why do I not have to scale?\n",
    "x_train, x_test, y_train, y_test = train_test_split(x, y, test_size=0.20, random_state=1776)"
   ]
  },
  {
   "cell_type": "code",
   "execution_count": 42,
   "metadata": {},
   "outputs": [
    {
     "name": "stdout",
     "output_type": "stream",
     "text": [
      "Train on 120 samples, validate on 30 samples\n",
      "Epoch 1/100\n",
      "120/120 [==============================] - 0s 4ms/sample - loss: 1.1329 - accuracy: 0.3250 - val_loss: 1.0991 - val_accuracy: 0.3667\n",
      "Epoch 2/100\n",
      "120/120 [==============================] - 0s 1ms/sample - loss: 1.1053 - accuracy: 0.3250 - val_loss: 1.0914 - val_accuracy: 0.3667\n",
      "Epoch 3/100\n",
      "120/120 [==============================] - 0s 1ms/sample - loss: 1.0978 - accuracy: 0.4250 - val_loss: 1.0897 - val_accuracy: 0.6667\n",
      "Epoch 4/100\n",
      "120/120 [==============================] - 0s 1ms/sample - loss: 1.0943 - accuracy: 0.4167 - val_loss: 1.0882 - val_accuracy: 0.7000\n",
      "Epoch 5/100\n",
      "120/120 [==============================] - 0s 1ms/sample - loss: 1.0922 - accuracy: 0.3500 - val_loss: 1.0879 - val_accuracy: 0.6667\n",
      "Epoch 6/100\n",
      "120/120 [==============================] - 0s 1ms/sample - loss: 1.0926 - accuracy: 0.3750 - val_loss: 1.0865 - val_accuracy: 0.5667\n",
      "Epoch 7/100\n",
      "120/120 [==============================] - 0s 1ms/sample - loss: 1.0913 - accuracy: 0.2833 - val_loss: 1.0839 - val_accuracy: 0.6667\n",
      "Epoch 8/100\n",
      "120/120 [==============================] - 0s 1ms/sample - loss: 1.0878 - accuracy: 0.3083 - val_loss: 1.0818 - val_accuracy: 0.7000\n",
      "Epoch 9/100\n",
      "120/120 [==============================] - 0s 1ms/sample - loss: 1.0866 - accuracy: 0.4167 - val_loss: 1.0802 - val_accuracy: 0.6667\n",
      "Epoch 10/100\n",
      "120/120 [==============================] - 0s 1ms/sample - loss: 1.0867 - accuracy: 0.4250 - val_loss: 1.0801 - val_accuracy: 0.4000\n",
      "Epoch 11/100\n",
      "120/120 [==============================] - 0s 1ms/sample - loss: 1.0840 - accuracy: 0.4167 - val_loss: 1.0787 - val_accuracy: 0.3333\n",
      "Epoch 12/100\n",
      "120/120 [==============================] - 0s 1ms/sample - loss: 1.0815 - accuracy: 0.4333 - val_loss: 1.0774 - val_accuracy: 0.3333\n",
      "Epoch 13/100\n",
      "120/120 [==============================] - 0s 1ms/sample - loss: 1.0797 - accuracy: 0.3833 - val_loss: 1.0756 - val_accuracy: 0.4000\n",
      "Epoch 14/100\n",
      "120/120 [==============================] - 0s 1ms/sample - loss: 1.0769 - accuracy: 0.5083 - val_loss: 1.0762 - val_accuracy: 0.3000\n",
      "Epoch 15/100\n",
      "120/120 [==============================] - 0s 1ms/sample - loss: 1.0766 - accuracy: 0.3083 - val_loss: 1.0715 - val_accuracy: 0.3667\n",
      "Epoch 16/100\n",
      "120/120 [==============================] - 0s 1ms/sample - loss: 1.0731 - accuracy: 0.3750 - val_loss: 1.0671 - val_accuracy: 0.6667\n",
      "Epoch 17/100\n",
      "120/120 [==============================] - 0s 1ms/sample - loss: 1.0720 - accuracy: 0.5750 - val_loss: 1.0675 - val_accuracy: 0.3667\n",
      "Epoch 18/100\n",
      "120/120 [==============================] - 0s 1ms/sample - loss: 1.0688 - accuracy: 0.5583 - val_loss: 1.0654 - val_accuracy: 0.3333\n",
      "Epoch 19/100\n",
      "120/120 [==============================] - 0s 1ms/sample - loss: 1.0679 - accuracy: 0.4833 - val_loss: 1.0654 - val_accuracy: 0.3000\n",
      "Epoch 20/100\n",
      "120/120 [==============================] - 0s 1ms/sample - loss: 1.0660 - accuracy: 0.4667 - val_loss: 1.0604 - val_accuracy: 0.3667\n",
      "Epoch 21/100\n",
      "120/120 [==============================] - 0s 1ms/sample - loss: 1.0627 - accuracy: 0.4417 - val_loss: 1.0550 - val_accuracy: 0.6667\n",
      "Epoch 22/100\n",
      "120/120 [==============================] - 0s 1ms/sample - loss: 1.0562 - accuracy: 0.5917 - val_loss: 1.0484 - val_accuracy: 0.7000\n",
      "Epoch 23/100\n",
      "120/120 [==============================] - 0s 1ms/sample - loss: 1.0532 - accuracy: 0.5583 - val_loss: 1.0492 - val_accuracy: 0.5667\n",
      "Epoch 24/100\n",
      "120/120 [==============================] - 0s 1ms/sample - loss: 1.0505 - accuracy: 0.5500 - val_loss: 1.0450 - val_accuracy: 0.6333\n",
      "Epoch 25/100\n",
      "120/120 [==============================] - 0s 1ms/sample - loss: 1.0488 - accuracy: 0.5667 - val_loss: 1.0400 - val_accuracy: 0.6667\n",
      "Epoch 26/100\n",
      "120/120 [==============================] - 0s 1ms/sample - loss: 1.0435 - accuracy: 0.5500 - val_loss: 1.0323 - val_accuracy: 0.6667\n",
      "Epoch 27/100\n",
      "120/120 [==============================] - 0s 1ms/sample - loss: 1.0401 - accuracy: 0.5500 - val_loss: 1.0286 - val_accuracy: 0.7000\n",
      "Epoch 28/100\n",
      "120/120 [==============================] - 0s 1ms/sample - loss: 1.0341 - accuracy: 0.5583 - val_loss: 1.0258 - val_accuracy: 0.6667\n",
      "Epoch 29/100\n",
      "120/120 [==============================] - 0s 1ms/sample - loss: 1.0302 - accuracy: 0.6250 - val_loss: 1.0190 - val_accuracy: 0.6667\n",
      "Epoch 30/100\n",
      "120/120 [==============================] - 0s 1ms/sample - loss: 1.0230 - accuracy: 0.6000 - val_loss: 1.0089 - val_accuracy: 0.6667\n",
      "Epoch 31/100\n",
      "120/120 [==============================] - 0s 1ms/sample - loss: 1.0179 - accuracy: 0.6000 - val_loss: 1.0026 - val_accuracy: 0.6667\n",
      "Epoch 32/100\n",
      "120/120 [==============================] - 0s 1ms/sample - loss: 1.0083 - accuracy: 0.6833 - val_loss: 0.9965 - val_accuracy: 0.7000\n",
      "Epoch 33/100\n",
      "120/120 [==============================] - 0s 1ms/sample - loss: 1.0040 - accuracy: 0.6667 - val_loss: 0.9874 - val_accuracy: 0.8333\n",
      "Epoch 34/100\n",
      "120/120 [==============================] - 0s 1ms/sample - loss: 0.9964 - accuracy: 0.6583 - val_loss: 0.9839 - val_accuracy: 0.6667\n",
      "Epoch 35/100\n",
      "120/120 [==============================] - 0s 1ms/sample - loss: 0.9912 - accuracy: 0.6000 - val_loss: 0.9815 - val_accuracy: 0.8333\n",
      "Epoch 36/100\n",
      "120/120 [==============================] - 0s 1ms/sample - loss: 0.9877 - accuracy: 0.6583 - val_loss: 0.9677 - val_accuracy: 0.6667\n",
      "Epoch 37/100\n",
      "120/120 [==============================] - 0s 1ms/sample - loss: 0.9749 - accuracy: 0.6417 - val_loss: 0.9581 - val_accuracy: 0.6667\n",
      "Epoch 38/100\n",
      "120/120 [==============================] - 0s 1ms/sample - loss: 0.9641 - accuracy: 0.6500 - val_loss: 0.9423 - val_accuracy: 0.8667\n",
      "Epoch 39/100\n",
      "120/120 [==============================] - 0s 1ms/sample - loss: 0.9567 - accuracy: 0.6417 - val_loss: 0.9369 - val_accuracy: 0.9000\n",
      "Epoch 40/100\n",
      "120/120 [==============================] - 0s 1ms/sample - loss: 0.9460 - accuracy: 0.6917 - val_loss: 0.9221 - val_accuracy: 0.7000\n",
      "Epoch 41/100\n",
      "120/120 [==============================] - 0s 1ms/sample - loss: 0.9375 - accuracy: 0.6750 - val_loss: 0.9130 - val_accuracy: 0.8667\n",
      "Epoch 42/100\n",
      "120/120 [==============================] - 0s 1ms/sample - loss: 0.9287 - accuracy: 0.6500 - val_loss: 0.9065 - val_accuracy: 0.8667\n",
      "Epoch 43/100\n",
      "120/120 [==============================] - 0s 1ms/sample - loss: 0.9144 - accuracy: 0.7000 - val_loss: 0.8923 - val_accuracy: 0.7000\n",
      "Epoch 44/100\n",
      "120/120 [==============================] - 0s 1ms/sample - loss: 0.9059 - accuracy: 0.7000 - val_loss: 0.8770 - val_accuracy: 0.8333\n",
      "Epoch 45/100\n",
      "120/120 [==============================] - 0s 1ms/sample - loss: 0.8894 - accuracy: 0.7083 - val_loss: 0.8650 - val_accuracy: 0.6667\n",
      "Epoch 46/100\n",
      "120/120 [==============================] - 0s 1ms/sample - loss: 0.8853 - accuracy: 0.6583 - val_loss: 0.8572 - val_accuracy: 0.8000\n",
      "Epoch 47/100\n",
      "120/120 [==============================] - 0s 1ms/sample - loss: 0.8735 - accuracy: 0.6917 - val_loss: 0.8373 - val_accuracy: 0.8333\n",
      "Epoch 48/100\n",
      "120/120 [==============================] - 0s 1ms/sample - loss: 0.8468 - accuracy: 0.7167 - val_loss: 0.8327 - val_accuracy: 0.6667\n",
      "Epoch 49/100\n",
      "120/120 [==============================] - 0s 1ms/sample - loss: 0.8481 - accuracy: 0.7083 - val_loss: 0.8141 - val_accuracy: 0.6667\n",
      "Epoch 50/100\n",
      "120/120 [==============================] - 0s 1ms/sample - loss: 0.8379 - accuracy: 0.6917 - val_loss: 0.8012 - val_accuracy: 0.8000\n",
      "Epoch 51/100\n",
      "120/120 [==============================] - 0s 1ms/sample - loss: 0.8155 - accuracy: 0.7667 - val_loss: 0.7894 - val_accuracy: 0.7000\n",
      "Epoch 52/100\n",
      "120/120 [==============================] - 0s 2ms/sample - loss: 0.8066 - accuracy: 0.7333 - val_loss: 0.7689 - val_accuracy: 0.9000\n",
      "Epoch 53/100\n",
      "120/120 [==============================] - 0s 1ms/sample - loss: 0.7885 - accuracy: 0.7083 - val_loss: 0.7562 - val_accuracy: 0.6667\n",
      "Epoch 54/100\n",
      "120/120 [==============================] - 0s 1ms/sample - loss: 0.7712 - accuracy: 0.7250 - val_loss: 0.7501 - val_accuracy: 0.6667\n",
      "Epoch 55/100\n",
      "120/120 [==============================] - 0s 1ms/sample - loss: 0.7676 - accuracy: 0.7083 - val_loss: 0.7276 - val_accuracy: 0.8000\n",
      "Epoch 56/100\n",
      "120/120 [==============================] - 0s 1ms/sample - loss: 0.7456 - accuracy: 0.7500 - val_loss: 0.7146 - val_accuracy: 0.7333\n"
     ]
    },
    {
     "name": "stdout",
     "output_type": "stream",
     "text": [
      "Epoch 57/100\n",
      "120/120 [==============================] - 0s 1ms/sample - loss: 0.7382 - accuracy: 0.7417 - val_loss: 0.7035 - val_accuracy: 0.7667\n",
      "Epoch 58/100\n",
      "120/120 [==============================] - 0s 1ms/sample - loss: 0.7289 - accuracy: 0.7583 - val_loss: 0.6872 - val_accuracy: 0.8000\n",
      "Epoch 59/100\n",
      "120/120 [==============================] - 0s 1ms/sample - loss: 0.7038 - accuracy: 0.7833 - val_loss: 0.6925 - val_accuracy: 0.6667\n",
      "Epoch 60/100\n",
      "120/120 [==============================] - 0s 1ms/sample - loss: 0.7002 - accuracy: 0.7000 - val_loss: 0.6617 - val_accuracy: 0.9333\n",
      "Epoch 61/100\n",
      "120/120 [==============================] - 0s 1ms/sample - loss: 0.6841 - accuracy: 0.7750 - val_loss: 0.6490 - val_accuracy: 1.0000\n",
      "Epoch 62/100\n",
      "120/120 [==============================] - 0s 1ms/sample - loss: 0.6745 - accuracy: 0.7500 - val_loss: 0.6380 - val_accuracy: 0.8667\n",
      "Epoch 63/100\n",
      "120/120 [==============================] - 0s 1ms/sample - loss: 0.6661 - accuracy: 0.7417 - val_loss: 0.6275 - val_accuracy: 0.8333\n",
      "Epoch 64/100\n",
      "120/120 [==============================] - 0s 1ms/sample - loss: 0.6532 - accuracy: 0.7667 - val_loss: 0.6177 - val_accuracy: 0.7333\n",
      "Epoch 65/100\n",
      "120/120 [==============================] - 0s 1ms/sample - loss: 0.6441 - accuracy: 0.7250 - val_loss: 0.6071 - val_accuracy: 0.8000\n",
      "Epoch 66/100\n",
      "120/120 [==============================] - 0s 1ms/sample - loss: 0.6293 - accuracy: 0.7750 - val_loss: 0.5950 - val_accuracy: 0.9000\n",
      "Epoch 67/100\n",
      "120/120 [==============================] - 0s 1ms/sample - loss: 0.6223 - accuracy: 0.7917 - val_loss: 0.5861 - val_accuracy: 0.8333\n",
      "Epoch 68/100\n",
      "120/120 [==============================] - 0s 1ms/sample - loss: 0.6134 - accuracy: 0.7667 - val_loss: 0.5752 - val_accuracy: 0.9333\n",
      "Epoch 69/100\n",
      "120/120 [==============================] - 0s 1ms/sample - loss: 0.6024 - accuracy: 0.8000 - val_loss: 0.5663 - val_accuracy: 0.9000\n",
      "Epoch 70/100\n",
      "120/120 [==============================] - 0s 1ms/sample - loss: 0.5953 - accuracy: 0.8167 - val_loss: 0.5607 - val_accuracy: 0.8000\n",
      "Epoch 71/100\n",
      "120/120 [==============================] - 0s 1ms/sample - loss: 0.5875 - accuracy: 0.7750 - val_loss: 0.5514 - val_accuracy: 0.8333\n",
      "Epoch 72/100\n",
      "120/120 [==============================] - 0s 1ms/sample - loss: 0.5754 - accuracy: 0.8000 - val_loss: 0.5441 - val_accuracy: 0.8000\n",
      "Epoch 73/100\n",
      "120/120 [==============================] - 0s 1ms/sample - loss: 0.5703 - accuracy: 0.7833 - val_loss: 0.5337 - val_accuracy: 0.9000\n",
      "Epoch 74/100\n",
      "120/120 [==============================] - 0s 1ms/sample - loss: 0.5596 - accuracy: 0.8250 - val_loss: 0.5276 - val_accuracy: 0.9333\n",
      "Epoch 75/100\n",
      "120/120 [==============================] - 0s 1ms/sample - loss: 0.5551 - accuracy: 0.7917 - val_loss: 0.5316 - val_accuracy: 0.7000\n",
      "Epoch 76/100\n",
      "120/120 [==============================] - 0s 1ms/sample - loss: 0.5492 - accuracy: 0.7833 - val_loss: 0.5125 - val_accuracy: 0.9000\n",
      "Epoch 77/100\n",
      "120/120 [==============================] - 0s 1ms/sample - loss: 0.5399 - accuracy: 0.7917 - val_loss: 0.5067 - val_accuracy: 0.9333\n",
      "Epoch 78/100\n",
      "120/120 [==============================] - 0s 1ms/sample - loss: 0.5392 - accuracy: 0.8333 - val_loss: 0.5061 - val_accuracy: 0.8000\n",
      "Epoch 79/100\n",
      "120/120 [==============================] - 0s 1ms/sample - loss: 0.5278 - accuracy: 0.8083 - val_loss: 0.4942 - val_accuracy: 0.9000\n",
      "Epoch 80/100\n",
      "120/120 [==============================] - 0s 967us/sample - loss: 0.5266 - accuracy: 0.9083 - val_loss: 0.4916 - val_accuracy: 0.8333\n",
      "Epoch 81/100\n",
      "120/120 [==============================] - 0s 1ms/sample - loss: 0.5155 - accuracy: 0.9167 - val_loss: 0.4868 - val_accuracy: 0.8333\n",
      "Epoch 82/100\n",
      "120/120 [==============================] - 0s 967us/sample - loss: 0.5148 - accuracy: 0.8250 - val_loss: 0.4827 - val_accuracy: 0.8333\n",
      "Epoch 83/100\n",
      "120/120 [==============================] - 0s 1ms/sample - loss: 0.5063 - accuracy: 0.8250 - val_loss: 0.4712 - val_accuracy: 0.9333\n",
      "Epoch 84/100\n",
      "120/120 [==============================] - 0s 1ms/sample - loss: 0.5012 - accuracy: 0.8583 - val_loss: 0.4713 - val_accuracy: 0.8333\n",
      "Epoch 85/100\n",
      "120/120 [==============================] - 0s 1ms/sample - loss: 0.5032 - accuracy: 0.8917 - val_loss: 0.4708 - val_accuracy: 0.8000\n",
      "Epoch 86/100\n",
      "120/120 [==============================] - 0s 1ms/sample - loss: 0.4892 - accuracy: 0.8667 - val_loss: 0.4586 - val_accuracy: 0.9000\n",
      "Epoch 87/100\n",
      "120/120 [==============================] - 0s 1ms/sample - loss: 0.4832 - accuracy: 0.8250 - val_loss: 0.4554 - val_accuracy: 0.8333\n",
      "Epoch 88/100\n",
      "120/120 [==============================] - 0s 1ms/sample - loss: 0.4810 - accuracy: 0.9083 - val_loss: 0.4477 - val_accuracy: 1.0000\n",
      "Epoch 89/100\n",
      "120/120 [==============================] - 0s 1ms/sample - loss: 0.4751 - accuracy: 0.9167 - val_loss: 0.4430 - val_accuracy: 1.0000\n",
      "Epoch 90/100\n",
      "120/120 [==============================] - 0s 1ms/sample - loss: 0.4717 - accuracy: 0.9167 - val_loss: 0.4402 - val_accuracy: 0.9000\n",
      "Epoch 91/100\n",
      "120/120 [==============================] - 0s 1ms/sample - loss: 0.4679 - accuracy: 0.9333 - val_loss: 0.4399 - val_accuracy: 0.8333\n",
      "Epoch 92/100\n",
      "120/120 [==============================] - 0s 1ms/sample - loss: 0.4631 - accuracy: 0.8833 - val_loss: 0.4304 - val_accuracy: 1.0000\n",
      "Epoch 93/100\n",
      "120/120 [==============================] - 0s 1ms/sample - loss: 0.4522 - accuracy: 0.8417 - val_loss: 0.4311 - val_accuracy: 0.8333\n",
      "Epoch 94/100\n",
      "120/120 [==============================] - 0s 1ms/sample - loss: 0.4594 - accuracy: 0.9000 - val_loss: 0.4223 - val_accuracy: 0.9333\n",
      "Epoch 95/100\n",
      "120/120 [==============================] - 0s 1ms/sample - loss: 0.4517 - accuracy: 0.9083 - val_loss: 0.4184 - val_accuracy: 1.0000\n",
      "Epoch 96/100\n",
      "120/120 [==============================] - 0s 1ms/sample - loss: 0.4460 - accuracy: 0.9250 - val_loss: 0.4163 - val_accuracy: 0.9000\n",
      "Epoch 97/100\n",
      "120/120 [==============================] - 0s 1ms/sample - loss: 0.4430 - accuracy: 0.8667 - val_loss: 0.4107 - val_accuracy: 0.9333\n",
      "Epoch 98/100\n",
      "120/120 [==============================] - 0s 1ms/sample - loss: 0.4380 - accuracy: 0.9417 - val_loss: 0.4079 - val_accuracy: 0.9333\n",
      "Epoch 99/100\n",
      "120/120 [==============================] - 0s 1ms/sample - loss: 0.4313 - accuracy: 0.9333 - val_loss: 0.4079 - val_accuracy: 0.9000\n",
      "Epoch 100/100\n",
      "120/120 [==============================] - 0s 1ms/sample - loss: 0.4291 - accuracy: 0.9250 - val_loss: 0.4005 - val_accuracy: 0.9333\n"
     ]
    },
    {
     "data": {
      "text/plain": [
       "<tensorflow.python.keras.callbacks.History at 0x1f5291009e8>"
      ]
     },
     "execution_count": 42,
     "metadata": {},
     "output_type": "execute_result"
    }
   ],
   "source": [
    "model_iris.fit(x_train, y_train, validation_data=(x_test,y_test), epochs=100, batch_size=4, callbacks=[tb])"
   ]
  },
  {
   "cell_type": "code",
   "execution_count": 43,
   "metadata": {},
   "outputs": [
    {
     "data": {
      "text/plain": [
       "array([2, 1, 0, 2, 2, 1, 1, 2, 1, 2, 1, 0, 0, 0, 2, 2, 0, 1, 0, 2, 0, 0,\n",
       "       0, 1, 0, 1, 2, 2, 2, 0], dtype=int64)"
      ]
     },
     "execution_count": 43,
     "metadata": {},
     "output_type": "execute_result"
    }
   ],
   "source": [
    "np.argmax(model_iris.predict(x_test),axis=1)"
   ]
  },
  {
   "cell_type": "code",
   "execution_count": 44,
   "metadata": {},
   "outputs": [
    {
     "data": {
      "text/plain": [
       "array([2, 1, 0, 1, 1, 1, 1, 2, 1, 2, 1, 0, 0, 0, 2, 2, 0, 1, 0, 2, 0, 0,\n",
       "       0, 1, 0, 1, 2, 2, 2, 0])"
      ]
     },
     "execution_count": 44,
     "metadata": {},
     "output_type": "execute_result"
    }
   ],
   "source": [
    "y_test"
   ]
  },
  {
   "cell_type": "code",
   "execution_count": 45,
   "metadata": {},
   "outputs": [],
   "source": [
    "W = model_final.get_weights()"
   ]
  },
  {
   "cell_type": "code",
   "execution_count": 46,
   "metadata": {},
   "outputs": [
    {
     "data": {
      "text/plain": [
       "6"
      ]
     },
     "execution_count": 46,
     "metadata": {},
     "output_type": "execute_result"
    }
   ],
   "source": [
    "len(W)"
   ]
  },
  {
   "cell_type": "code",
   "execution_count": 47,
   "metadata": {},
   "outputs": [],
   "source": [
    "x = np.linspace(-1,1,10000)\n",
    "y = 0.2+0.4*x*x+0.3*x*np.sin(15*x)+0.05*np.cos(50*x)"
   ]
  },
  {
   "cell_type": "code",
   "execution_count": 48,
   "metadata": {},
   "outputs": [
    {
     "data": {
      "text/plain": [
       "<matplotlib.collections.PathCollection at 0x1f5295f3f60>"
      ]
     },
     "execution_count": 48,
     "metadata": {},
     "output_type": "execute_result"
    },
    {
     "data": {
      "image/png": "[encoded data removed]",
      "text/plain": [
       "<Figure size 432x288 with 1 Axes>"
      ]
     },
     "metadata": {
      "needs_background": "light"
     },
     "output_type": "display_data"
    }
   ],
   "source": [
    "plt.scatter(x,y,marker=\".\")"
   ]
  },
  {
   "cell_type": "code",
   "execution_count": 49,
   "metadata": {},
   "outputs": [
    {
     "name": "stdout",
     "output_type": "stream",
     "text": [
      "Train on 10000 samples\n",
      "Epoch 1/5\n",
      "10000/10000 [==============================] - 1s 146us/sample - loss: 0.0110\n",
      "Epoch 2/5\n",
      "10000/10000 [==============================] - 1s 110us/sample - loss: 0.0022\n",
      "Epoch 3/5\n",
      "10000/10000 [==============================] - 1s 112us/sample - loss: 0.0016\n",
      "Epoch 4/5\n",
      "10000/10000 [==============================] - 1s 109us/sample - loss: 0.0014\n",
      "Epoch 5/5\n",
      "10000/10000 [==============================] - 1s 110us/sample - loss: 0.0014\n"
     ]
    },
    {
     "data": {
      "text/plain": [
       "<tensorflow.python.keras.callbacks.History at 0x1f52a757208>"
      ]
     },
     "execution_count": 49,
     "metadata": {},
     "output_type": "execute_result"
    }
   ],
   "source": [
    "model_1 = tf.keras.Sequential()\n",
    "# Adds a densely-connected layer with 64 units to the model:\n",
    "\n",
    "model_1.add(layers.Dense(1000, activation='relu',kernel_initializer='glorot_uniform',bias_initializer='glorot_uniform'))\n",
    "model_1.add(layers.Dense(1000, activation='relu',kernel_initializer='glorot_uniform',bias_initializer='glorot_uniform'))\n",
    "model_1.add(layers.Dense(1000, activation='relu',kernel_initializer='glorot_uniform',bias_initializer='glorot_uniform'))\n",
    "model_1.add(layers.Dense(1000, activation='relu',kernel_initializer='glorot_uniform',bias_initializer='glorot_uniform'))\n",
    "model_1.add(layers.Dense(1, activation='relu'))\n",
    "model_1.compile(optimizer=tf.optimizers.Adam(),loss='mean_squared_error')\n",
    "model_1.fit(x, y, epochs=5, batch_size=32)"
   ]
  },
  {
   "cell_type": "code",
   "execution_count": 50,
   "metadata": {},
   "outputs": [],
   "source": [
    "preds = model_1.predict(x)"
   ]
  },
  {
   "cell_type": "code",
   "execution_count": 51,
   "metadata": {},
   "outputs": [
    {
     "data": {
      "text/plain": [
       "<matplotlib.collections.PathCollection at 0x1f52acceef0>"
      ]
     },
     "execution_count": 51,
     "metadata": {},
     "output_type": "execute_result"
    },
    {
     "data": {
      "image/png": "[encoded data removed]",
      "text/plain": [
       "<Figure size 432x288 with 1 Axes>"
      ]
     },
     "metadata": {
      "needs_background": "light"
     },
     "output_type": "display_data"
    }
   ],
   "source": [
    "plt.scatter(x,preds,marker=\".\")\n",
    "plt.scatter(x,y,marker=\".\")"
   ]
  },
  {
   "cell_type": "code",
   "execution_count": null,
   "metadata": {},
   "outputs": [],
   "source": []
  },
  {
   "cell_type": "code",
   "execution_count": null,
   "metadata": {},
   "outputs": [],
   "source": [
    "y_train.head()"
   ]
  },
  {
   "cell_type": "code",
   "execution_count": null,
   "metadata": {},
   "outputs": [],
   "source": []
  }
 ],
 "metadata": {
  "kernelspec": {
   "display_name": "tf2",
   "language": "python",
   "name": "myenv"
  },
  "language_info": {
   "codemirror_mode": {
    "name": "ipython",
    "version": 3
   },
   "file_extension": ".py",
   "mimetype": "text/x-python",
   "name": "python",
   "nbconvert_exporter": "python",
   "pygments_lexer": "ipython3",
   "version": "3.6.8"
  }
 },
 "nbformat": 4,
 "nbformat_minor": 2
}
